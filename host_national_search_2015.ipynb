{
  "nbformat": 4,
  "nbformat_minor": 0,
  "metadata": {
    "colab": {
      "provenance": [],
      "authorship_tag": "ABX9TyOzY7t/DgVTH9EZ7s73uhKV",
      "include_colab_link": true
    },
    "kernelspec": {
      "name": "python3",
      "display_name": "Python 3"
    },
    "language_info": {
      "name": "python"
    }
  },
  "cells": [
    {
      "cell_type": "markdown",
      "metadata": {
        "id": "view-in-github",
        "colab_type": "text"
      },
      "source": [
        "<a href=\"https://colab.research.google.com/github/hernandemonteiro/host_national_search_2015/blob/main/host_national_search_2015.ipynb\" target=\"_parent\"><img src=\"https://colab.research.google.com/assets/colab-badge.svg\" alt=\"Open In Colab\"/></a>"
      ]
    },
    {
      "cell_type": "markdown",
      "source": [
        "# Load Data"
      ],
      "metadata": {
        "id": "VcZnTHCF91Y7"
      }
    },
    {
      "cell_type": "code",
      "source": [
        "# add packages\n",
        "!pip install seaborn"
      ],
      "metadata": {
        "colab": {
          "base_uri": "https://localhost:8080/"
        },
        "id": "w5mZGs0m-BM6",
        "outputId": "923b5b17-5553-4df8-d8a4-d139b0903c5c"
      },
      "execution_count": 2,
      "outputs": [
        {
          "output_type": "stream",
          "name": "stdout",
          "text": [
            "Looking in indexes: https://pypi.org/simple, https://us-python.pkg.dev/colab-wheels/public/simple/\n",
            "Requirement already satisfied: seaborn in /usr/local/lib/python3.10/dist-packages (0.12.2)\n",
            "Requirement already satisfied: numpy!=1.24.0,>=1.17 in /usr/local/lib/python3.10/dist-packages (from seaborn) (1.22.4)\n",
            "Requirement already satisfied: pandas>=0.25 in /usr/local/lib/python3.10/dist-packages (from seaborn) (1.5.3)\n",
            "Requirement already satisfied: matplotlib!=3.6.1,>=3.1 in /usr/local/lib/python3.10/dist-packages (from seaborn) (3.7.1)\n",
            "Requirement already satisfied: contourpy>=1.0.1 in /usr/local/lib/python3.10/dist-packages (from matplotlib!=3.6.1,>=3.1->seaborn) (1.0.7)\n",
            "Requirement already satisfied: cycler>=0.10 in /usr/local/lib/python3.10/dist-packages (from matplotlib!=3.6.1,>=3.1->seaborn) (0.11.0)\n",
            "Requirement already satisfied: fonttools>=4.22.0 in /usr/local/lib/python3.10/dist-packages (from matplotlib!=3.6.1,>=3.1->seaborn) (4.39.3)\n",
            "Requirement already satisfied: kiwisolver>=1.0.1 in /usr/local/lib/python3.10/dist-packages (from matplotlib!=3.6.1,>=3.1->seaborn) (1.4.4)\n",
            "Requirement already satisfied: packaging>=20.0 in /usr/local/lib/python3.10/dist-packages (from matplotlib!=3.6.1,>=3.1->seaborn) (23.1)\n",
            "Requirement already satisfied: pillow>=6.2.0 in /usr/local/lib/python3.10/dist-packages (from matplotlib!=3.6.1,>=3.1->seaborn) (8.4.0)\n",
            "Requirement already satisfied: pyparsing>=2.3.1 in /usr/local/lib/python3.10/dist-packages (from matplotlib!=3.6.1,>=3.1->seaborn) (3.0.9)\n",
            "Requirement already satisfied: python-dateutil>=2.7 in /usr/local/lib/python3.10/dist-packages (from matplotlib!=3.6.1,>=3.1->seaborn) (2.8.2)\n",
            "Requirement already satisfied: pytz>=2020.1 in /usr/local/lib/python3.10/dist-packages (from pandas>=0.25->seaborn) (2022.7.1)\n",
            "Requirement already satisfied: six>=1.5 in /usr/local/lib/python3.10/dist-packages (from python-dateutil>=2.7->matplotlib!=3.6.1,>=3.1->seaborn) (1.16.0)\n"
          ]
        }
      ]
    },
    {
      "cell_type": "code",
      "source": [
        "import pandas as pd"
      ],
      "metadata": {
        "id": "Y0VxfSvM-JQQ"
      },
      "execution_count": 3,
      "outputs": []
    },
    {
      "cell_type": "code",
      "source": [
        "data = pd.read_csv(\"dados.csv\")"
      ],
      "metadata": {
        "id": "YvmMQ2Pb9zwU"
      },
      "execution_count": 4,
      "outputs": []
    },
    {
      "cell_type": "markdown",
      "source": [
        "# Frequency Distributions qualitative variables\n",
        "\n"
      ],
      "metadata": {
        "id": "wXkuHeHx9tTP"
      }
    },
    {
      "cell_type": "code",
      "source": [
        "data.Sexo.value_counts()"
      ],
      "metadata": {
        "colab": {
          "base_uri": "https://localhost:8080/"
        },
        "id": "uE9EBPdO95x0",
        "outputId": "dc598206-bcc6-4d07-af19-4b7b4730d231"
      },
      "execution_count": 5,
      "outputs": [
        {
          "output_type": "execute_result",
          "data": {
            "text/plain": [
              "0    53250\n",
              "1    23590\n",
              "Name: Sexo, dtype: int64"
            ]
          },
          "metadata": {},
          "execution_count": 5
        }
      ]
    },
    {
      "cell_type": "code",
      "source": [
        "data.Sexo.value_counts(normalize=True)"
      ],
      "metadata": {
        "colab": {
          "base_uri": "https://localhost:8080/"
        },
        "id": "IVAIhS-5-mt7",
        "outputId": "c0032e29-6c2e-4270-f65e-ea841fe27f5b"
      },
      "execution_count": 6,
      "outputs": [
        {
          "output_type": "execute_result",
          "data": {
            "text/plain": [
              "0    0.692998\n",
              "1    0.307002\n",
              "Name: Sexo, dtype: float64"
            ]
          },
          "metadata": {},
          "execution_count": 6
        }
      ]
    },
    {
      "cell_type": "code",
      "source": [
        "frequency = data.Sexo.value_counts()"
      ],
      "metadata": {
        "id": "qqRKkbI_-t-S"
      },
      "execution_count": 7,
      "outputs": []
    },
    {
      "cell_type": "code",
      "source": [
        "percent = data.Sexo.value_counts(normalize=True) * 100"
      ],
      "metadata": {
        "id": "a0O0Hd_E-z72"
      },
      "execution_count": 8,
      "outputs": []
    },
    {
      "cell_type": "code",
      "source": [
        "dist_freq_qual = pd.DataFrame({\n",
        "    \"frequency\": frequency,\n",
        "    \"Percent %\": percent\n",
        "})\n",
        "\n",
        "\n",
        "dist_freq_qual.rename(index={\n",
        "    0: \"Man\",\n",
        "    1: \"Woman\"\n",
        "}, inplace=True)\n",
        "\n",
        "\n",
        "dist_freq_qual.rename_axis(\"Gender\", axis=\"columns\", inplace=True)\n",
        "\n",
        "dist_freq_qual"
      ],
      "metadata": {
        "colab": {
          "base_uri": "https://localhost:8080/",
          "height": 112
        },
        "id": "8ow5l5mF-4rL",
        "outputId": "8c661658-d52e-4175-9a08-d05c3e72e5e1"
      },
      "execution_count": 9,
      "outputs": [
        {
          "output_type": "execute_result",
          "data": {
            "text/plain": [
              "Gender  frequency  Percent %\n",
              "Man         53250  69.299844\n",
              "Woman       23590  30.700156"
            ],
            "text/html": [
              "\n",
              "  <div id=\"df-ee99654f-8c7b-4f74-9b21-1a3a9b08d924\">\n",
              "    <div class=\"colab-df-container\">\n",
              "      <div>\n",
              "<style scoped>\n",
              "    .dataframe tbody tr th:only-of-type {\n",
              "        vertical-align: middle;\n",
              "    }\n",
              "\n",
              "    .dataframe tbody tr th {\n",
              "        vertical-align: top;\n",
              "    }\n",
              "\n",
              "    .dataframe thead th {\n",
              "        text-align: right;\n",
              "    }\n",
              "</style>\n",
              "<table border=\"1\" class=\"dataframe\">\n",
              "  <thead>\n",
              "    <tr style=\"text-align: right;\">\n",
              "      <th>Gender</th>\n",
              "      <th>frequency</th>\n",
              "      <th>Percent %</th>\n",
              "    </tr>\n",
              "  </thead>\n",
              "  <tbody>\n",
              "    <tr>\n",
              "      <th>Man</th>\n",
              "      <td>53250</td>\n",
              "      <td>69.299844</td>\n",
              "    </tr>\n",
              "    <tr>\n",
              "      <th>Woman</th>\n",
              "      <td>23590</td>\n",
              "      <td>30.700156</td>\n",
              "    </tr>\n",
              "  </tbody>\n",
              "</table>\n",
              "</div>\n",
              "      <button class=\"colab-df-convert\" onclick=\"convertToInteractive('df-ee99654f-8c7b-4f74-9b21-1a3a9b08d924')\"\n",
              "              title=\"Convert this dataframe to an interactive table.\"\n",
              "              style=\"display:none;\">\n",
              "        \n",
              "  <svg xmlns=\"http://www.w3.org/2000/svg\" height=\"24px\"viewBox=\"0 0 24 24\"\n",
              "       width=\"24px\">\n",
              "    <path d=\"M0 0h24v24H0V0z\" fill=\"none\"/>\n",
              "    <path d=\"M18.56 5.44l.94 2.06.94-2.06 2.06-.94-2.06-.94-.94-2.06-.94 2.06-2.06.94zm-11 1L8.5 8.5l.94-2.06 2.06-.94-2.06-.94L8.5 2.5l-.94 2.06-2.06.94zm10 10l.94 2.06.94-2.06 2.06-.94-2.06-.94-.94-2.06-.94 2.06-2.06.94z\"/><path d=\"M17.41 7.96l-1.37-1.37c-.4-.4-.92-.59-1.43-.59-.52 0-1.04.2-1.43.59L10.3 9.45l-7.72 7.72c-.78.78-.78 2.05 0 2.83L4 21.41c.39.39.9.59 1.41.59.51 0 1.02-.2 1.41-.59l7.78-7.78 2.81-2.81c.8-.78.8-2.07 0-2.86zM5.41 20L4 18.59l7.72-7.72 1.47 1.35L5.41 20z\"/>\n",
              "  </svg>\n",
              "      </button>\n",
              "      \n",
              "  <style>\n",
              "    .colab-df-container {\n",
              "      display:flex;\n",
              "      flex-wrap:wrap;\n",
              "      gap: 12px;\n",
              "    }\n",
              "\n",
              "    .colab-df-convert {\n",
              "      background-color: #E8F0FE;\n",
              "      border: none;\n",
              "      border-radius: 50%;\n",
              "      cursor: pointer;\n",
              "      display: none;\n",
              "      fill: #1967D2;\n",
              "      height: 32px;\n",
              "      padding: 0 0 0 0;\n",
              "      width: 32px;\n",
              "    }\n",
              "\n",
              "    .colab-df-convert:hover {\n",
              "      background-color: #E2EBFA;\n",
              "      box-shadow: 0px 1px 2px rgba(60, 64, 67, 0.3), 0px 1px 3px 1px rgba(60, 64, 67, 0.15);\n",
              "      fill: #174EA6;\n",
              "    }\n",
              "\n",
              "    [theme=dark] .colab-df-convert {\n",
              "      background-color: #3B4455;\n",
              "      fill: #D2E3FC;\n",
              "    }\n",
              "\n",
              "    [theme=dark] .colab-df-convert:hover {\n",
              "      background-color: #434B5C;\n",
              "      box-shadow: 0px 1px 3px 1px rgba(0, 0, 0, 0.15);\n",
              "      filter: drop-shadow(0px 1px 2px rgba(0, 0, 0, 0.3));\n",
              "      fill: #FFFFFF;\n",
              "    }\n",
              "  </style>\n",
              "\n",
              "      <script>\n",
              "        const buttonEl =\n",
              "          document.querySelector('#df-ee99654f-8c7b-4f74-9b21-1a3a9b08d924 button.colab-df-convert');\n",
              "        buttonEl.style.display =\n",
              "          google.colab.kernel.accessAllowed ? 'block' : 'none';\n",
              "\n",
              "        async function convertToInteractive(key) {\n",
              "          const element = document.querySelector('#df-ee99654f-8c7b-4f74-9b21-1a3a9b08d924');\n",
              "          const dataTable =\n",
              "            await google.colab.kernel.invokeFunction('convertToInteractive',\n",
              "                                                     [key], {});\n",
              "          if (!dataTable) return;\n",
              "\n",
              "          const docLinkHtml = 'Like what you see? Visit the ' +\n",
              "            '<a target=\"_blank\" href=https://colab.research.google.com/notebooks/data_table.ipynb>data table notebook</a>'\n",
              "            + ' to learn more about interactive tables.';\n",
              "          element.innerHTML = '';\n",
              "          dataTable['output_type'] = 'display_data';\n",
              "          await google.colab.output.renderOutput(dataTable, element);\n",
              "          const docLink = document.createElement('div');\n",
              "          docLink.innerHTML = docLinkHtml;\n",
              "          element.appendChild(docLink);\n",
              "        }\n",
              "      </script>\n",
              "    </div>\n",
              "  </div>\n",
              "  "
            ]
          },
          "metadata": {},
          "execution_count": 9
        }
      ]
    },
    {
      "cell_type": "markdown",
      "source": [
        "Or use this second way:"
      ],
      "metadata": {
        "id": "qUCyLRlR_0hD"
      }
    },
    {
      "cell_type": "code",
      "source": [
        "gender = {\n",
        "    0: \"Man\",\n",
        "    1: \"Woman\"\n",
        "}\n",
        "\n",
        "\n",
        "color = {\n",
        "    0: \"Native\",\n",
        "    2: \"White\",\n",
        "    4: \"Black\",\n",
        "    6: \"Yellow\",\n",
        "    8: \"Parda*\",\n",
        "    9: \"No declareted\"\n",
        "}"
      ],
      "metadata": {
        "id": "AxfZa6Hd_4C5"
      },
      "execution_count": 10,
      "outputs": []
    },
    {
      "cell_type": "code",
      "source": [
        "frequency = pd.crosstab(data.Sexo, data.Cor)\n",
        "\n",
        "\n",
        "frequency.rename(index=gender, inplace=True)\n",
        "\n",
        "\n",
        "frequency.rename(columns=color, inplace=True)\n",
        "\n",
        "\n",
        "frequency"
      ],
      "metadata": {
        "colab": {
          "base_uri": "https://localhost:8080/",
          "height": 143
        },
        "id": "AnR88pGY_cjY",
        "outputId": "c1f56292-285f-47a4-91d0-958223315e30"
      },
      "execution_count": 11,
      "outputs": [
        {
          "output_type": "execute_result",
          "data": {
            "text/plain": [
              "Cor    Native  White  Black  Yellow  Parda*\n",
              "Sexo                                       \n",
              "Man       256  22194   5502     235   25063\n",
              "Woman     101   9621   2889     117   10862"
            ],
            "text/html": [
              "\n",
              "  <div id=\"df-e43e2862-384d-4049-aeb7-49c852561bf1\">\n",
              "    <div class=\"colab-df-container\">\n",
              "      <div>\n",
              "<style scoped>\n",
              "    .dataframe tbody tr th:only-of-type {\n",
              "        vertical-align: middle;\n",
              "    }\n",
              "\n",
              "    .dataframe tbody tr th {\n",
              "        vertical-align: top;\n",
              "    }\n",
              "\n",
              "    .dataframe thead th {\n",
              "        text-align: right;\n",
              "    }\n",
              "</style>\n",
              "<table border=\"1\" class=\"dataframe\">\n",
              "  <thead>\n",
              "    <tr style=\"text-align: right;\">\n",
              "      <th>Cor</th>\n",
              "      <th>Native</th>\n",
              "      <th>White</th>\n",
              "      <th>Black</th>\n",
              "      <th>Yellow</th>\n",
              "      <th>Parda*</th>\n",
              "    </tr>\n",
              "    <tr>\n",
              "      <th>Sexo</th>\n",
              "      <th></th>\n",
              "      <th></th>\n",
              "      <th></th>\n",
              "      <th></th>\n",
              "      <th></th>\n",
              "    </tr>\n",
              "  </thead>\n",
              "  <tbody>\n",
              "    <tr>\n",
              "      <th>Man</th>\n",
              "      <td>256</td>\n",
              "      <td>22194</td>\n",
              "      <td>5502</td>\n",
              "      <td>235</td>\n",
              "      <td>25063</td>\n",
              "    </tr>\n",
              "    <tr>\n",
              "      <th>Woman</th>\n",
              "      <td>101</td>\n",
              "      <td>9621</td>\n",
              "      <td>2889</td>\n",
              "      <td>117</td>\n",
              "      <td>10862</td>\n",
              "    </tr>\n",
              "  </tbody>\n",
              "</table>\n",
              "</div>\n",
              "      <button class=\"colab-df-convert\" onclick=\"convertToInteractive('df-e43e2862-384d-4049-aeb7-49c852561bf1')\"\n",
              "              title=\"Convert this dataframe to an interactive table.\"\n",
              "              style=\"display:none;\">\n",
              "        \n",
              "  <svg xmlns=\"http://www.w3.org/2000/svg\" height=\"24px\"viewBox=\"0 0 24 24\"\n",
              "       width=\"24px\">\n",
              "    <path d=\"M0 0h24v24H0V0z\" fill=\"none\"/>\n",
              "    <path d=\"M18.56 5.44l.94 2.06.94-2.06 2.06-.94-2.06-.94-.94-2.06-.94 2.06-2.06.94zm-11 1L8.5 8.5l.94-2.06 2.06-.94-2.06-.94L8.5 2.5l-.94 2.06-2.06.94zm10 10l.94 2.06.94-2.06 2.06-.94-2.06-.94-.94-2.06-.94 2.06-2.06.94z\"/><path d=\"M17.41 7.96l-1.37-1.37c-.4-.4-.92-.59-1.43-.59-.52 0-1.04.2-1.43.59L10.3 9.45l-7.72 7.72c-.78.78-.78 2.05 0 2.83L4 21.41c.39.39.9.59 1.41.59.51 0 1.02-.2 1.41-.59l7.78-7.78 2.81-2.81c.8-.78.8-2.07 0-2.86zM5.41 20L4 18.59l7.72-7.72 1.47 1.35L5.41 20z\"/>\n",
              "  </svg>\n",
              "      </button>\n",
              "      \n",
              "  <style>\n",
              "    .colab-df-container {\n",
              "      display:flex;\n",
              "      flex-wrap:wrap;\n",
              "      gap: 12px;\n",
              "    }\n",
              "\n",
              "    .colab-df-convert {\n",
              "      background-color: #E8F0FE;\n",
              "      border: none;\n",
              "      border-radius: 50%;\n",
              "      cursor: pointer;\n",
              "      display: none;\n",
              "      fill: #1967D2;\n",
              "      height: 32px;\n",
              "      padding: 0 0 0 0;\n",
              "      width: 32px;\n",
              "    }\n",
              "\n",
              "    .colab-df-convert:hover {\n",
              "      background-color: #E2EBFA;\n",
              "      box-shadow: 0px 1px 2px rgba(60, 64, 67, 0.3), 0px 1px 3px 1px rgba(60, 64, 67, 0.15);\n",
              "      fill: #174EA6;\n",
              "    }\n",
              "\n",
              "    [theme=dark] .colab-df-convert {\n",
              "      background-color: #3B4455;\n",
              "      fill: #D2E3FC;\n",
              "    }\n",
              "\n",
              "    [theme=dark] .colab-df-convert:hover {\n",
              "      background-color: #434B5C;\n",
              "      box-shadow: 0px 1px 3px 1px rgba(0, 0, 0, 0.15);\n",
              "      filter: drop-shadow(0px 1px 2px rgba(0, 0, 0, 0.3));\n",
              "      fill: #FFFFFF;\n",
              "    }\n",
              "  </style>\n",
              "\n",
              "      <script>\n",
              "        const buttonEl =\n",
              "          document.querySelector('#df-e43e2862-384d-4049-aeb7-49c852561bf1 button.colab-df-convert');\n",
              "        buttonEl.style.display =\n",
              "          google.colab.kernel.accessAllowed ? 'block' : 'none';\n",
              "\n",
              "        async function convertToInteractive(key) {\n",
              "          const element = document.querySelector('#df-e43e2862-384d-4049-aeb7-49c852561bf1');\n",
              "          const dataTable =\n",
              "            await google.colab.kernel.invokeFunction('convertToInteractive',\n",
              "                                                     [key], {});\n",
              "          if (!dataTable) return;\n",
              "\n",
              "          const docLinkHtml = 'Like what you see? Visit the ' +\n",
              "            '<a target=\"_blank\" href=https://colab.research.google.com/notebooks/data_table.ipynb>data table notebook</a>'\n",
              "            + ' to learn more about interactive tables.';\n",
              "          element.innerHTML = '';\n",
              "          dataTable['output_type'] = 'display_data';\n",
              "          await google.colab.output.renderOutput(dataTable, element);\n",
              "          const docLink = document.createElement('div');\n",
              "          docLink.innerHTML = docLinkHtml;\n",
              "          element.appendChild(docLink);\n",
              "        }\n",
              "      </script>\n",
              "    </div>\n",
              "  </div>\n",
              "  "
            ]
          },
          "metadata": {},
          "execution_count": 11
        }
      ]
    },
    {
      "cell_type": "markdown",
      "source": [
        "# Frequency distributions - quantitative variables"
      ],
      "metadata": {
        "id": "z1oB4LztBGpz"
      }
    },
    {
      "cell_type": "code",
      "source": [
        "data.Renda.min()"
      ],
      "metadata": {
        "colab": {
          "base_uri": "https://localhost:8080/"
        },
        "id": "kfW0SVdLBM8B",
        "outputId": "bd18c14c-d52d-45de-8e25-8f90f31283bd"
      },
      "execution_count": 12,
      "outputs": [
        {
          "output_type": "execute_result",
          "data": {
            "text/plain": [
              "0"
            ]
          },
          "metadata": {},
          "execution_count": 12
        }
      ]
    },
    {
      "cell_type": "code",
      "source": [
        "data.Renda.max()"
      ],
      "metadata": {
        "colab": {
          "base_uri": "https://localhost:8080/"
        },
        "id": "PSHeD2hyBQRi",
        "outputId": "ea9ad319-3d72-4edd-fbc7-809d55df14ba"
      },
      "execution_count": 13,
      "outputs": [
        {
          "output_type": "execute_result",
          "data": {
            "text/plain": [
              "200000"
            ]
          },
          "metadata": {},
          "execution_count": 13
        }
      ]
    },
    {
      "cell_type": "code",
      "source": [
        "classes = [0, 1576, 3152, 7880, 15760, 200000]"
      ],
      "metadata": {
        "id": "Ep16BnC9BRwa"
      },
      "execution_count": 14,
      "outputs": []
    },
    {
      "cell_type": "code",
      "source": [
        "labels = ['E', 'D', 'C', 'B', 'A']"
      ],
      "metadata": {
        "id": "0x0Crp78Bd0z"
      },
      "execution_count": 15,
      "outputs": []
    },
    {
      "cell_type": "code",
      "source": [
        "pd.cut(x=data.Renda, bins=classes, labels=labels, include_lowest=True)"
      ],
      "metadata": {
        "colab": {
          "base_uri": "https://localhost:8080/"
        },
        "id": "iaqU07ekU-EG",
        "outputId": "2fd12281-86c0-48e3-83dd-1ba340e2af31"
      },
      "execution_count": 16,
      "outputs": [
        {
          "output_type": "execute_result",
          "data": {
            "text/plain": [
              "0        E\n",
              "1        E\n",
              "2        E\n",
              "3        C\n",
              "4        E\n",
              "        ..\n",
              "76835    E\n",
              "76836    E\n",
              "76837    E\n",
              "76838    E\n",
              "76839    E\n",
              "Name: Renda, Length: 76840, dtype: category\n",
              "Categories (5, object): ['E' < 'D' < 'C' < 'B' < 'A']"
            ]
          },
          "metadata": {},
          "execution_count": 16
        }
      ]
    },
    {
      "cell_type": "code",
      "source": [
        "renda_per_pop = pd.value_counts(pd.cut(x=data.Renda, bins=classes, labels=labels, include_lowest=True))\n",
        "\n",
        "\n",
        "renda_per_pop\n"
      ],
      "metadata": {
        "colab": {
          "base_uri": "https://localhost:8080/"
        },
        "id": "YPuT53C6Uygg",
        "outputId": "a7be4859-0bae-406c-99bd-40a73801b33f"
      },
      "execution_count": 17,
      "outputs": [
        {
          "output_type": "execute_result",
          "data": {
            "text/plain": [
              "E    49755\n",
              "D    16700\n",
              "C     7599\n",
              "B     2178\n",
              "A      608\n",
              "Name: Renda, dtype: int64"
            ]
          },
          "metadata": {},
          "execution_count": 17
        }
      ]
    },
    {
      "cell_type": "code",
      "source": [
        "\n",
        "labels_dict = {\n",
        "    'E': \"Até 2 SM\",\n",
        "    'D': \"De 2 a 4 SM\",\n",
        "    'C': \"De 4 a 10 SM\",\n",
        "    'B': \"De 10 a 20 SM\",\n",
        "    'A': \"Acima de 20 SM\"\n",
        "}\n",
        "\n",
        "renda_per_pop.rename(index=labels_dict, inplace=True)\n",
        "\n",
        "\n",
        "plot_pop_sm = renda_per_pop.plot(kind=\"bar\", title=\"Salários da população em 2015\",\n",
        "                                      xlabel=\"Quantidade de SMs\", ylabel=\"Quantidade de pessoas\",\n",
        "                                      figsize=(7, 4), yticks=renda_per_pop)\n",
        "\n",
        "\n",
        "plot_pop_sm"
      ],
      "metadata": {
        "colab": {
          "base_uri": "https://localhost:8080/",
          "height": 543
        },
        "id": "OkekK-haBi5k",
        "outputId": "b6eec11b-6c1d-4afc-d641-f0ca08b76ab5"
      },
      "execution_count": 18,
      "outputs": [
        {
          "output_type": "execute_result",
          "data": {
            "text/plain": [
              "<Axes: title={'center': 'Salários da população em 2015'}, xlabel='Quantidade de SMs', ylabel='Quantidade de pessoas'>"
            ]
          },
          "metadata": {},
          "execution_count": 18
        },
        {
          "output_type": "display_data",
          "data": {
            "text/plain": [
              "<Figure size 700x400 with 1 Axes>"
            ],
            "image/png": "[encoded data removed]"
          },
          "metadata": {}
        }
      ]
    },
    {
      "cell_type": "code",
      "source": [
        "# Other methods\n",
        "import numpy as np\n",
        "\n",
        "\n",
        "n = data.shape[0]\n",
        "n"
      ],
      "metadata": {
        "id": "n3GCreuJDzbq",
        "colab": {
          "base_uri": "https://localhost:8080/"
        },
        "outputId": "8d99848f-8695-4c7d-9ca6-611e446dae1e"
      },
      "execution_count": 19,
      "outputs": [
        {
          "output_type": "execute_result",
          "data": {
            "text/plain": [
              "76840"
            ]
          },
          "metadata": {},
          "execution_count": 19
        }
      ]
    },
    {
      "cell_type": "code",
      "source": [
        "k = 1 + (10 / 3) * np.log10(n)\n",
        "k"
      ],
      "metadata": {
        "colab": {
          "base_uri": "https://localhost:8080/"
        },
        "id": "Vp4DZbkxg-SZ",
        "outputId": "527aacea-cb31-42c3-b915-6d52a2d18315"
      },
      "execution_count": 20,
      "outputs": [
        {
          "output_type": "execute_result",
          "data": {
            "text/plain": [
              "17.285291187298853"
            ]
          },
          "metadata": {},
          "execution_count": 20
        }
      ]
    },
    {
      "cell_type": "code",
      "source": [
        "k = int(k.round(0))\n",
        "k"
      ],
      "metadata": {
        "colab": {
          "base_uri": "https://localhost:8080/"
        },
        "id": "FRTCx1d3hNfS",
        "outputId": "e3b66b2a-082c-4578-b6ff-d12c99357503"
      },
      "execution_count": 21,
      "outputs": [
        {
          "output_type": "execute_result",
          "data": {
            "text/plain": [
              "17"
            ]
          },
          "metadata": {},
          "execution_count": 21
        }
      ]
    },
    {
      "cell_type": "code",
      "source": [
        "labels = {\n",
        "    \"(-200.001, 11764.706]\": \"Q\",\n",
        "    \"(11764.706, 23529.412]\": \"P\",\n",
        "    \"(23529.412, 35294.118]\": \"O\",\n",
        "    \"(35294.118, 47058.824]\": \"N\",\n",
        "    \"(47058.824, 58823.529]\": \"M\",\n",
        "    \"(58823.529, 70588.235]\": \"L\",\n",
        "    \"(70588.235, 82352.941]\": \"K\",\n",
        "    \"(82352.941, 94117.647]\": \"J\",\n",
        "    \"(94117.647, 105882.353]\": \"I\",\n",
        "    \"(105882.353, 117647.059]\t\": \"H\",\n",
        "    \"(117647.059, 129411.765]\": \"G\",\n",
        "    \"(129411.765, 141176.471]\": \"F\",\n",
        "    \"(141176.471, 152941.176]\t\": \"E\",\n",
        "    \"(152941.176, 164705.882]\": \"D\",\n",
        "    \"(164705.882, 176470.588]\t\": \"C\",\n",
        "    \"(176470.588, 188235.294]\": \"B\",\n",
        "    \"(188235.294, 200000.0]\": \"A\"\n",
        "}\n",
        "frequency = pd.value_counts(\n",
        "    pd.cut(\n",
        "        x=data.Renda,\n",
        "        bins=k,\n",
        "        include_lowest=True,\n",
        "        labels=labels\n",
        "    ),\n",
        "    sort=False\n",
        ")\n",
        "\n",
        "print(\"frequency of renda:\\n\\n\", frequency)"
      ],
      "metadata": {
        "colab": {
          "base_uri": "https://localhost:8080/"
        },
        "id": "aVtJmoOIhmmG",
        "outputId": "9848b4c1-5fab-4f4a-d741-df21d2f30bf8"
      },
      "execution_count": 22,
      "outputs": [
        {
          "output_type": "stream",
          "name": "stdout",
          "text": [
            "frequency of renda:\n",
            "\n",
            " (-200.001, 11764.706]         75594\n",
            "(11764.706, 23529.412]         1022\n",
            "(23529.412, 35294.118]          169\n",
            "(35294.118, 47058.824]           19\n",
            "(47058.824, 58823.529]           16\n",
            "(58823.529, 70588.235]            5\n",
            "(70588.235, 82352.941]            4\n",
            "(82352.941, 94117.647]            1\n",
            "(94117.647, 105882.353]           6\n",
            "(105882.353, 117647.059]\\t        0\n",
            "(117647.059, 129411.765]          1\n",
            "(129411.765, 141176.471]          0\n",
            "(141176.471, 152941.176]\\t        0\n",
            "(152941.176, 164705.882]          0\n",
            "(164705.882, 176470.588]\\t        0\n",
            "(176470.588, 188235.294]          0\n",
            "(188235.294, 200000.0]            3\n",
            "Name: Renda, dtype: int64\n"
          ]
        }
      ]
    },
    {
      "cell_type": "code",
      "source": [
        "\n",
        "percent = pd.value_counts(\n",
        "    pd.cut(\n",
        "        x=data.Renda,\n",
        "        bins=17,\n",
        "        include_lowest=True,\n",
        "        labels=labels\n",
        "    ),\n",
        "    sort=False,\n",
        "    normalize=True,\n",
        ") * 100\n",
        "print(\"Percentual de renda: \\n\\n\", percent)\n"
      ],
      "metadata": {
        "colab": {
          "base_uri": "https://localhost:8080/"
        },
        "id": "PFRWZWEKiSjc",
        "outputId": "0ab65633-e540-41a6-c559-f8fa6bcdb0ec"
      },
      "execution_count": 23,
      "outputs": [
        {
          "output_type": "stream",
          "name": "stdout",
          "text": [
            "Percentual de renda: \n",
            "\n",
            " (-200.001, 11764.706]         98.378449\n",
            "(11764.706, 23529.412]         1.330036\n",
            "(23529.412, 35294.118]         0.219938\n",
            "(35294.118, 47058.824]         0.024727\n",
            "(47058.824, 58823.529]         0.020822\n",
            "(58823.529, 70588.235]         0.006507\n",
            "(70588.235, 82352.941]         0.005206\n",
            "(82352.941, 94117.647]         0.001301\n",
            "(94117.647, 105882.353]        0.007808\n",
            "(105882.353, 117647.059]\\t     0.000000\n",
            "(117647.059, 129411.765]       0.001301\n",
            "(129411.765, 141176.471]       0.000000\n",
            "(141176.471, 152941.176]\\t     0.000000\n",
            "(152941.176, 164705.882]       0.000000\n",
            "(164705.882, 176470.588]\\t     0.000000\n",
            "(176470.588, 188235.294]       0.000000\n",
            "(188235.294, 200000.0]         0.003904\n",
            "Name: Renda, dtype: float64\n"
          ]
        }
      ]
    },
    {
      "cell_type": "code",
      "source": [
        "\n",
        "\n",
        "dist_freq_quant_fix_ampl = pd.DataFrame(\n",
        "    {\n",
        "        \"Frequency\": frequency,\n",
        "        \"Percent (%)\": percent\n",
        "     }\n",
        "\n",
        ")\n",
        "dist_freq_quant_fix_ampl.rename(index=labels, inplace=True)\n",
        "dist_freq_quant_fix_ampl.rename_axis(\"Classes\", axis=\"columns\", inplace=True)\n",
        "dist_freq_quant_fix_ampl"
      ],
      "metadata": {
        "colab": {
          "base_uri": "https://localhost:8080/",
          "height": 582
        },
        "id": "CcuTFKNohfTU",
        "outputId": "df18b9df-e5af-45d0-f1d7-1f954c6a4fa5"
      },
      "execution_count": 24,
      "outputs": [
        {
          "output_type": "execute_result",
          "data": {
            "text/plain": [
              "Classes  Frequency  Percent (%)\n",
              "Q            75594    98.378449\n",
              "P             1022     1.330036\n",
              "O              169     0.219938\n",
              "N               19     0.024727\n",
              "M               16     0.020822\n",
              "L                5     0.006507\n",
              "K                4     0.005206\n",
              "J                1     0.001301\n",
              "I                6     0.007808\n",
              "H                0     0.000000\n",
              "G                1     0.001301\n",
              "F                0     0.000000\n",
              "E                0     0.000000\n",
              "D                0     0.000000\n",
              "C                0     0.000000\n",
              "B                0     0.000000\n",
              "A                3     0.003904"
            ],
            "text/html": [
              "\n",
              "  <div id=\"df-044ed431-294c-46cf-b9fe-d0401cef70be\">\n",
              "    <div class=\"colab-df-container\">\n",
              "      <div>\n",
              "<style scoped>\n",
              "    .dataframe tbody tr th:only-of-type {\n",
              "        vertical-align: middle;\n",
              "    }\n",
              "\n",
              "    .dataframe tbody tr th {\n",
              "        vertical-align: top;\n",
              "    }\n",
              "\n",
              "    .dataframe thead th {\n",
              "        text-align: right;\n",
              "    }\n",
              "</style>\n",
              "<table border=\"1\" class=\"dataframe\">\n",
              "  <thead>\n",
              "    <tr style=\"text-align: right;\">\n",
              "      <th>Classes</th>\n",
              "      <th>Frequency</th>\n",
              "      <th>Percent (%)</th>\n",
              "    </tr>\n",
              "  </thead>\n",
              "  <tbody>\n",
              "    <tr>\n",
              "      <th>Q</th>\n",
              "      <td>75594</td>\n",
              "      <td>98.378449</td>\n",
              "    </tr>\n",
              "    <tr>\n",
              "      <th>P</th>\n",
              "      <td>1022</td>\n",
              "      <td>1.330036</td>\n",
              "    </tr>\n",
              "    <tr>\n",
              "      <th>O</th>\n",
              "      <td>169</td>\n",
              "      <td>0.219938</td>\n",
              "    </tr>\n",
              "    <tr>\n",
              "      <th>N</th>\n",
              "      <td>19</td>\n",
              "      <td>0.024727</td>\n",
              "    </tr>\n",
              "    <tr>\n",
              "      <th>M</th>\n",
              "      <td>16</td>\n",
              "      <td>0.020822</td>\n",
              "    </tr>\n",
              "    <tr>\n",
              "      <th>L</th>\n",
              "      <td>5</td>\n",
              "      <td>0.006507</td>\n",
              "    </tr>\n",
              "    <tr>\n",
              "      <th>K</th>\n",
              "      <td>4</td>\n",
              "      <td>0.005206</td>\n",
              "    </tr>\n",
              "    <tr>\n",
              "      <th>J</th>\n",
              "      <td>1</td>\n",
              "      <td>0.001301</td>\n",
              "    </tr>\n",
              "    <tr>\n",
              "      <th>I</th>\n",
              "      <td>6</td>\n",
              "      <td>0.007808</td>\n",
              "    </tr>\n",
              "    <tr>\n",
              "      <th>H</th>\n",
              "      <td>0</td>\n",
              "      <td>0.000000</td>\n",
              "    </tr>\n",
              "    <tr>\n",
              "      <th>G</th>\n",
              "      <td>1</td>\n",
              "      <td>0.001301</td>\n",
              "    </tr>\n",
              "    <tr>\n",
              "      <th>F</th>\n",
              "      <td>0</td>\n",
              "      <td>0.000000</td>\n",
              "    </tr>\n",
              "    <tr>\n",
              "      <th>E</th>\n",
              "      <td>0</td>\n",
              "      <td>0.000000</td>\n",
              "    </tr>\n",
              "    <tr>\n",
              "      <th>D</th>\n",
              "      <td>0</td>\n",
              "      <td>0.000000</td>\n",
              "    </tr>\n",
              "    <tr>\n",
              "      <th>C</th>\n",
              "      <td>0</td>\n",
              "      <td>0.000000</td>\n",
              "    </tr>\n",
              "    <tr>\n",
              "      <th>B</th>\n",
              "      <td>0</td>\n",
              "      <td>0.000000</td>\n",
              "    </tr>\n",
              "    <tr>\n",
              "      <th>A</th>\n",
              "      <td>3</td>\n",
              "      <td>0.003904</td>\n",
              "    </tr>\n",
              "  </tbody>\n",
              "</table>\n",
              "</div>\n",
              "      <button class=\"colab-df-convert\" onclick=\"convertToInteractive('df-044ed431-294c-46cf-b9fe-d0401cef70be')\"\n",
              "              title=\"Convert this dataframe to an interactive table.\"\n",
              "              style=\"display:none;\">\n",
              "        \n",
              "  <svg xmlns=\"http://www.w3.org/2000/svg\" height=\"24px\"viewBox=\"0 0 24 24\"\n",
              "       width=\"24px\">\n",
              "    <path d=\"M0 0h24v24H0V0z\" fill=\"none\"/>\n",
              "    <path d=\"M18.56 5.44l.94 2.06.94-2.06 2.06-.94-2.06-.94-.94-2.06-.94 2.06-2.06.94zm-11 1L8.5 8.5l.94-2.06 2.06-.94-2.06-.94L8.5 2.5l-.94 2.06-2.06.94zm10 10l.94 2.06.94-2.06 2.06-.94-2.06-.94-.94-2.06-.94 2.06-2.06.94z\"/><path d=\"M17.41 7.96l-1.37-1.37c-.4-.4-.92-.59-1.43-.59-.52 0-1.04.2-1.43.59L10.3 9.45l-7.72 7.72c-.78.78-.78 2.05 0 2.83L4 21.41c.39.39.9.59 1.41.59.51 0 1.02-.2 1.41-.59l7.78-7.78 2.81-2.81c.8-.78.8-2.07 0-2.86zM5.41 20L4 18.59l7.72-7.72 1.47 1.35L5.41 20z\"/>\n",
              "  </svg>\n",
              "      </button>\n",
              "      \n",
              "  <style>\n",
              "    .colab-df-container {\n",
              "      display:flex;\n",
              "      flex-wrap:wrap;\n",
              "      gap: 12px;\n",
              "    }\n",
              "\n",
              "    .colab-df-convert {\n",
              "      background-color: #E8F0FE;\n",
              "      border: none;\n",
              "      border-radius: 50%;\n",
              "      cursor: pointer;\n",
              "      display: none;\n",
              "      fill: #1967D2;\n",
              "      height: 32px;\n",
              "      padding: 0 0 0 0;\n",
              "      width: 32px;\n",
              "    }\n",
              "\n",
              "    .colab-df-convert:hover {\n",
              "      background-color: #E2EBFA;\n",
              "      box-shadow: 0px 1px 2px rgba(60, 64, 67, 0.3), 0px 1px 3px 1px rgba(60, 64, 67, 0.15);\n",
              "      fill: #174EA6;\n",
              "    }\n",
              "\n",
              "    [theme=dark] .colab-df-convert {\n",
              "      background-color: #3B4455;\n",
              "      fill: #D2E3FC;\n",
              "    }\n",
              "\n",
              "    [theme=dark] .colab-df-convert:hover {\n",
              "      background-color: #434B5C;\n",
              "      box-shadow: 0px 1px 3px 1px rgba(0, 0, 0, 0.15);\n",
              "      filter: drop-shadow(0px 1px 2px rgba(0, 0, 0, 0.3));\n",
              "      fill: #FFFFFF;\n",
              "    }\n",
              "  </style>\n",
              "\n",
              "      <script>\n",
              "        const buttonEl =\n",
              "          document.querySelector('#df-044ed431-294c-46cf-b9fe-d0401cef70be button.colab-df-convert');\n",
              "        buttonEl.style.display =\n",
              "          google.colab.kernel.accessAllowed ? 'block' : 'none';\n",
              "\n",
              "        async function convertToInteractive(key) {\n",
              "          const element = document.querySelector('#df-044ed431-294c-46cf-b9fe-d0401cef70be');\n",
              "          const dataTable =\n",
              "            await google.colab.kernel.invokeFunction('convertToInteractive',\n",
              "                                                     [key], {});\n",
              "          if (!dataTable) return;\n",
              "\n",
              "          const docLinkHtml = 'Like what you see? Visit the ' +\n",
              "            '<a target=\"_blank\" href=https://colab.research.google.com/notebooks/data_table.ipynb>data table notebook</a>'\n",
              "            + ' to learn more about interactive tables.';\n",
              "          element.innerHTML = '';\n",
              "          dataTable['output_type'] = 'display_data';\n",
              "          await google.colab.output.renderOutput(dataTable, element);\n",
              "          const docLink = document.createElement('div');\n",
              "          docLink.innerHTML = docLinkHtml;\n",
              "          element.appendChild(docLink);\n",
              "        }\n",
              "      </script>\n",
              "    </div>\n",
              "  </div>\n",
              "  "
            ]
          },
          "metadata": {},
          "execution_count": 24
        }
      ]
    },
    {
      "cell_type": "markdown",
      "source": [
        "# Using Seaborn to Plot"
      ],
      "metadata": {
        "id": "c9EQtGUprIj3"
      }
    },
    {
      "cell_type": "code",
      "source": [
        "import seaborn as sns"
      ],
      "metadata": {
        "id": "tA8WnLdelYWG"
      },
      "execution_count": 25,
      "outputs": []
    },
    {
      "cell_type": "markdown",
      "source": [
        "# Height Frequencys without kde"
      ],
      "metadata": {
        "id": "1cIEyAf1vwcv"
      }
    },
    {
      "cell_type": "code",
      "source": [
        "ax = sns.distplot(data.Altura, kde=False)\n",
        "\n",
        "ax.figure.set_size_inches(8, 4)\n",
        "ax.set_title(\"Frequency Distributions - Height\", fontsize=12)\n",
        "ax.set_xlabel(\"Height in metters\", fontsize=10)\n",
        "ax.set_ylabel(\"Quantity of persons\", fontsize=10)\n",
        "ax"
      ],
      "metadata": {
        "colab": {
          "base_uri": "https://localhost:8080/",
          "height": 636
        },
        "id": "1VSzEI5krQ7S",
        "outputId": "fc32302b-88db-4d1b-a824-9ced7436229e"
      },
      "execution_count": 28,
      "outputs": [
        {
          "output_type": "stream",
          "name": "stderr",
          "text": [
            "<ipython-input-28-4ca1b15498b6>:1: UserWarning: \n",
            "\n",
            "`distplot` is a deprecated function and will be removed in seaborn v0.14.0.\n",
            "\n",
            "Please adapt your code to use either `displot` (a figure-level function with\n",
            "similar flexibility) or `histplot` (an axes-level function for histograms).\n",
            "\n",
            "For a guide to updating your code to use the new functions, please see\n",
            "https://gist.github.com/mwaskom/de44147ed2974457ad6372750bbe5751\n",
            "\n",
            "  ax = sns.distplot(data.Altura, kde=False)\n"
          ]
        },
        {
          "output_type": "execute_result",
          "data": {
            "text/plain": [
              "<Axes: title={'center': 'Frequency Distributions - Height'}, xlabel='Height in metters', ylabel='Quantity of persons'>"
            ]
          },
          "metadata": {},
          "execution_count": 28
        },
        {
          "output_type": "display_data",
          "data": {
            "text/plain": [
              "<Figure size 800x400 with 1 Axes>"
            ],
            "image/png": "[encoded data removed]"
          },
          "metadata": {}
        }
      ]
    },
    {
      "cell_type": "markdown",
      "source": [
        "# Height Frequencys with kde"
      ],
      "metadata": {
        "id": "Z20UE4uZv34G"
      }
    },
    {
      "cell_type": "code",
      "source": [
        "ax = sns.distplot(data.Altura, kde=True)\n",
        "\n",
        "ax.figure.set_size_inches(8, 4)\n",
        "ax.set_title(\"Frequency Distributions - Height\", fontsize=12)\n",
        "ax.set_xlabel(\"Height in metters\", fontsize=10)\n",
        "ax.set_ylabel(\"Quantity of persons\", fontsize=10)\n",
        "ax"
      ],
      "metadata": {
        "colab": {
          "base_uri": "https://localhost:8080/",
          "height": 636
        },
        "id": "tuseNr8Esrkz",
        "outputId": "52eca97c-519b-445e-fe75-70a69483a6cc"
      },
      "execution_count": 29,
      "outputs": [
        {
          "output_type": "stream",
          "name": "stderr",
          "text": [
            "<ipython-input-29-563cbe80c1b7>:1: UserWarning: \n",
            "\n",
            "`distplot` is a deprecated function and will be removed in seaborn v0.14.0.\n",
            "\n",
            "Please adapt your code to use either `displot` (a figure-level function with\n",
            "similar flexibility) or `histplot` (an axes-level function for histograms).\n",
            "\n",
            "For a guide to updating your code to use the new functions, please see\n",
            "https://gist.github.com/mwaskom/de44147ed2974457ad6372750bbe5751\n",
            "\n",
            "  ax = sns.distplot(data.Altura, kde=True)\n"
          ]
        },
        {
          "output_type": "execute_result",
          "data": {
            "text/plain": [
              "<Axes: title={'center': 'Frequency Distributions - Height'}, xlabel='Height in metters', ylabel='Quantity of persons'>"
            ]
          },
          "metadata": {},
          "execution_count": 29
        },
        {
          "output_type": "display_data",
          "data": {
            "text/plain": [
              "<Figure size 800x400 with 1 Axes>"
            ],
            "image/png": "[encoded data removed]"
          },
          "metadata": {}
        }
      ]
    },
    {
      "cell_type": "code",
      "source": [],
      "metadata": {
        "id": "IJL70pnHv82Q"
      },
      "execution_count": null,
      "outputs": []
    }
  ]
}